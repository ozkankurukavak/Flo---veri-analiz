{
 "cells": [
  {
   "cell_type": "markdown",
   "id": "b8318926-6f88-4caf-acca-77b1ee98d604",
   "metadata": {},
   "source": [
    "# VERİ HİKAYESİ\n",
    "- Veri seti Flo’dan son alışverişlerini 2020 - 2021 yıllarında OmniChannel (hem online hem offline alışveriş yapan) olarak yapan müşterilerin geçmiş alışveriş davranışlarından elde edilen bilgilerden oluşmaktadır.\n",
    "\n",
    "\n",
    " - master_id: Eşsiz müşteri numarası\n",
    " - order_channel: Alışveriş yapılan platforma ait hangi kanalın kullanıldığı (Android, ios, Desktop, Mobile)\n",
    " - last_order_channel: En son alışverişin yapıldığı kanal\n",
    " - first_order_date: Müşterinin yaptığı ilk alışveriş tarihi\n",
    " - last_order_date: Müşterinin yaptığı son alışveriş tarihi\n",
    " - last_order_date_online: Müşterinin online platformda yaptığı son alışveriş tarihi\n",
    " - last_order_date_offline: Müşterinin offline platformda yaptığı son alışveriş tarihi\n",
    " - order_num_total_ever_online: Müşterinin online platformda yaptığı toplam alışveriş sayısı\n",
    " - order_num_total_ever_offline: Müşterinin offline'da yaptığı toplam alışveriş sayısı\n",
    " - customer_value_total_ever_online: Müşterinin offline alışverişlerinde ödediği toplam ücret\n",
    " - customer_value_total_ever_offline: Müşterinin online alışverişlerinde ödediği toplam ücret\n",
    " - interested_in_categories_12: Müşterinin son 12 ayda alışveriş yaptığı kategorilerin listesi\n",
    "\n",
    "\n",
    "\n",
    "\n",
    "\n",
    "ilerin listesi"
   ]
  },
  {
   "cell_type": "code",
   "execution_count": null,
   "id": "8550eb77-02bd-4c4d-b525-76bb0fe57a98",
   "metadata": {},
   "outputs": [],
   "source": [
    "# İŞ PROBLEMİ:\n",
    "# Online ayakkabı mağazası olan FLO müşterilerini segmentlere ayırıp\n",
    "# bu segmentlere göre pazarlama stratejileri belirlemek istiyor.\n",
    "# Buna yönelik olarak müşterilerin davranışları tanımlanacak\n",
    "# ve bu davranışlardaki öbeklenmelere göre gruplar oluşturulacak.\n",
    "\n",
    "\n",
    "import pandas as pd\n",
    "import numpy as np\n",
    "import seaborn as sns\n",
    "import datetime as dt\n",
    "import matplotlib.pyplot as plt\n",
    "import warnings\n",
    "warnings.filterwarnings(\"ignore\")"
   ]
  },
  {
   "cell_type": "code",
   "execution_count": null,
   "id": "306c53be-3b67-4aea-8b8f-663e5fe54e5c",
   "metadata": {},
   "outputs": [
    {
     "data": {
      "text/html": [
       "<div>\n",
       "<style scoped>\n",
       "    .dataframe tbody tr th:only-of-type {\n",
       "        vertical-align: middle;\n",
       "    }\n",
       "\n",
       "    .dataframe tbody tr th {\n",
       "        vertical-align: top;\n",
       "    }\n",
       "\n",
       "    .dataframe thead th {\n",
       "        text-align: right;\n",
       "    }\n",
       "</style>\n",
       "<table border=\"1\" class=\"dataframe\">\n",
       "  <thead>\n",
       "    <tr style=\"text-align: right;\">\n",
       "      <th></th>\n",
       "      <th>master_id</th>\n",
       "      <th>order_channel</th>\n",
       "      <th>last_order_channel</th>\n",
       "      <th>first_order_date</th>\n",
       "      <th>last_order_date</th>\n",
       "      <th>last_order_date_online</th>\n",
       "      <th>last_order_date_offline</th>\n",
       "      <th>order_num_total_ever_online</th>\n",
       "      <th>order_num_total_ever_offline</th>\n",
       "      <th>customer_value_total_ever_offline</th>\n",
       "      <th>customer_value_total_ever_online</th>\n",
       "      <th>interested_in_categories_12</th>\n",
       "      <th>store_type</th>\n",
       "    </tr>\n",
       "  </thead>\n",
       "  <tbody>\n",
       "    <tr>\n",
       "      <th>0</th>\n",
       "      <td>cc294636-19f0-11eb-8d74-000d3a38a36f</td>\n",
       "      <td>Android App</td>\n",
       "      <td>Offline</td>\n",
       "      <td>2020-10-30</td>\n",
       "      <td>2021-02-26</td>\n",
       "      <td>2021-02-21</td>\n",
       "      <td>2021-02-26</td>\n",
       "      <td>4.0</td>\n",
       "      <td>1.0</td>\n",
       "      <td>139.99</td>\n",
       "      <td>799.38</td>\n",
       "      <td>[KADIN]</td>\n",
       "      <td>A</td>\n",
       "    </tr>\n",
       "    <tr>\n",
       "      <th>1</th>\n",
       "      <td>f431bd5a-ab7b-11e9-a2fc-000d3a38a36f</td>\n",
       "      <td>Android App</td>\n",
       "      <td>Mobile</td>\n",
       "      <td>2017-02-08</td>\n",
       "      <td>2021-02-16</td>\n",
       "      <td>2021-02-16</td>\n",
       "      <td>2020-01-10</td>\n",
       "      <td>19.0</td>\n",
       "      <td>2.0</td>\n",
       "      <td>159.97</td>\n",
       "      <td>1853.58</td>\n",
       "      <td>[ERKEK, COCUK, KADIN, AKTIFSPOR]</td>\n",
       "      <td>A</td>\n",
       "    </tr>\n",
       "    <tr>\n",
       "      <th>2</th>\n",
       "      <td>69b69676-1a40-11ea-941b-000d3a38a36f</td>\n",
       "      <td>Android App</td>\n",
       "      <td>Android App</td>\n",
       "      <td>2019-11-27</td>\n",
       "      <td>2020-11-27</td>\n",
       "      <td>2020-11-27</td>\n",
       "      <td>2019-12-01</td>\n",
       "      <td>3.0</td>\n",
       "      <td>2.0</td>\n",
       "      <td>189.97</td>\n",
       "      <td>395.35</td>\n",
       "      <td>[ERKEK, KADIN]</td>\n",
       "      <td>A</td>\n",
       "    </tr>\n",
       "    <tr>\n",
       "      <th>3</th>\n",
       "      <td>1854e56c-491f-11eb-806e-000d3a38a36f</td>\n",
       "      <td>Android App</td>\n",
       "      <td>Android App</td>\n",
       "      <td>2021-01-06</td>\n",
       "      <td>2021-01-17</td>\n",
       "      <td>2021-01-17</td>\n",
       "      <td>2021-01-06</td>\n",
       "      <td>1.0</td>\n",
       "      <td>1.0</td>\n",
       "      <td>39.99</td>\n",
       "      <td>81.98</td>\n",
       "      <td>[AKTIFCOCUK, COCUK]</td>\n",
       "      <td>A</td>\n",
       "    </tr>\n",
       "    <tr>\n",
       "      <th>4</th>\n",
       "      <td>d6ea1074-f1f5-11e9-9346-000d3a38a36f</td>\n",
       "      <td>Desktop</td>\n",
       "      <td>Desktop</td>\n",
       "      <td>2019-08-03</td>\n",
       "      <td>2021-03-07</td>\n",
       "      <td>2021-03-07</td>\n",
       "      <td>2019-08-03</td>\n",
       "      <td>1.0</td>\n",
       "      <td>1.0</td>\n",
       "      <td>49.99</td>\n",
       "      <td>159.99</td>\n",
       "      <td>[AKTIFSPOR]</td>\n",
       "      <td>A</td>\n",
       "    </tr>\n",
       "  </tbody>\n",
       "</table>\n",
       "</div>"
      ],
      "text/plain": [
       "                              master_id order_channel last_order_channel  \\\n",
       "0  cc294636-19f0-11eb-8d74-000d3a38a36f   Android App            Offline   \n",
       "1  f431bd5a-ab7b-11e9-a2fc-000d3a38a36f   Android App             Mobile   \n",
       "2  69b69676-1a40-11ea-941b-000d3a38a36f   Android App        Android App   \n",
       "3  1854e56c-491f-11eb-806e-000d3a38a36f   Android App        Android App   \n",
       "4  d6ea1074-f1f5-11e9-9346-000d3a38a36f       Desktop            Desktop   \n",
       "\n",
       "  first_order_date last_order_date last_order_date_online  \\\n",
       "0       2020-10-30      2021-02-26             2021-02-21   \n",
       "1       2017-02-08      2021-02-16             2021-02-16   \n",
       "2       2019-11-27      2020-11-27             2020-11-27   \n",
       "3       2021-01-06      2021-01-17             2021-01-17   \n",
       "4       2019-08-03      2021-03-07             2021-03-07   \n",
       "\n",
       "  last_order_date_offline  order_num_total_ever_online  \\\n",
       "0              2021-02-26                          4.0   \n",
       "1              2020-01-10                         19.0   \n",
       "2              2019-12-01                          3.0   \n",
       "3              2021-01-06                          1.0   \n",
       "4              2019-08-03                          1.0   \n",
       "\n",
       "   order_num_total_ever_offline  customer_value_total_ever_offline  \\\n",
       "0                           1.0                             139.99   \n",
       "1                           2.0                             159.97   \n",
       "2                           2.0                             189.97   \n",
       "3                           1.0                              39.99   \n",
       "4                           1.0                              49.99   \n",
       "\n",
       "   customer_value_total_ever_online       interested_in_categories_12  \\\n",
       "0                            799.38                           [KADIN]   \n",
       "1                           1853.58  [ERKEK, COCUK, KADIN, AKTIFSPOR]   \n",
       "2                            395.35                    [ERKEK, KADIN]   \n",
       "3                             81.98               [AKTIFCOCUK, COCUK]   \n",
       "4                            159.99                       [AKTIFSPOR]   \n",
       "\n",
       "  store_type  \n",
       "0          A  \n",
       "1          A  \n",
       "2          A  \n",
       "3          A  \n",
       "4          A  "
      ]
     },
     "execution_count": 2,
     "metadata": {},
     "output_type": "execute_result"
    }
   ],
   "source": [
    "df = pd.read_csv(\"flo_data_20K.csv\")\n",
    "df.head()"
   ]
  },
  {
   "cell_type": "code",
   "execution_count": null,
   "id": "ea52e17f-5b96-4d8d-8531-626d74462e2b",
   "metadata": {},
   "outputs": [
    {
     "name": "stdout",
     "output_type": "stream",
     "text": [
      "<class 'pandas.core.frame.DataFrame'>\n",
      "RangeIndex: 19945 entries, 0 to 19944\n",
      "Data columns (total 13 columns):\n",
      " #   Column                             Non-Null Count  Dtype  \n",
      "---  ------                             --------------  -----  \n",
      " 0   master_id                          19945 non-null  object \n",
      " 1   order_channel                      19945 non-null  object \n",
      " 2   last_order_channel                 19945 non-null  object \n",
      " 3   first_order_date                   19945 non-null  object \n",
      " 4   last_order_date                    19945 non-null  object \n",
      " 5   last_order_date_online             19945 non-null  object \n",
      " 6   last_order_date_offline            19945 non-null  object \n",
      " 7   order_num_total_ever_online        19945 non-null  float64\n",
      " 8   order_num_total_ever_offline       19945 non-null  float64\n",
      " 9   customer_value_total_ever_offline  19945 non-null  float64\n",
      " 10  customer_value_total_ever_online   19945 non-null  float64\n",
      " 11  interested_in_categories_12        19945 non-null  object \n",
      " 12  store_type                         19945 non-null  object \n",
      "dtypes: float64(4), object(9)\n",
      "memory usage: 2.0+ MB\n"
     ]
    }
   ],
   "source": [
    "# VERİ SETİNE GENEL BAKIŞ:\n",
    "\n",
    "df.info()"
   ]
  },
  {
   "cell_type": "code",
   "execution_count": null,
   "id": "ffe32d70-d845-4a2c-bf14-f5154c61ce9d",
   "metadata": {},
   "outputs": [
    {
     "data": {
      "text/plain": [
       "Index(['master_id', 'order_channel', 'last_order_channel', 'first_order_date',\n",
       "       'last_order_date', 'last_order_date_online', 'last_order_date_offline',\n",
       "       'order_num_total_ever_online', 'order_num_total_ever_offline',\n",
       "       'customer_value_total_ever_offline', 'customer_value_total_ever_online',\n",
       "       'interested_in_categories_12', 'store_type'],\n",
       "      dtype='object')"
      ]
     },
     "execution_count": 4,
     "metadata": {},
     "output_type": "execute_result"
    }
   ],
   "source": [
    "# VERİ SETİNİN SÜTUNLARI:\n",
    "\n",
    "df.columns"
   ]
  },
  {
   "cell_type": "code",
   "execution_count": null,
   "id": "0c3dd977-6a40-4059-b104-502897a65996",
   "metadata": {},
   "outputs": [
    {
     "data": {
      "text/html": [
       "<div>\n",
       "<style scoped>\n",
       "    .dataframe tbody tr th:only-of-type {\n",
       "        vertical-align: middle;\n",
       "    }\n",
       "\n",
       "    .dataframe tbody tr th {\n",
       "        vertical-align: top;\n",
       "    }\n",
       "\n",
       "    .dataframe thead th {\n",
       "        text-align: right;\n",
       "    }\n",
       "</style>\n",
       "<table border=\"1\" class=\"dataframe\">\n",
       "  <thead>\n",
       "    <tr style=\"text-align: right;\">\n",
       "      <th></th>\n",
       "      <th>count</th>\n",
       "      <th>mean</th>\n",
       "      <th>std</th>\n",
       "      <th>min</th>\n",
       "      <th>25%</th>\n",
       "      <th>50%</th>\n",
       "      <th>75%</th>\n",
       "      <th>max</th>\n",
       "    </tr>\n",
       "  </thead>\n",
       "  <tbody>\n",
       "    <tr>\n",
       "      <th>order_num_total_ever_online</th>\n",
       "      <td>19945.0</td>\n",
       "      <td>3.110855</td>\n",
       "      <td>4.225647</td>\n",
       "      <td>1.00</td>\n",
       "      <td>1.00</td>\n",
       "      <td>2.00</td>\n",
       "      <td>4.00</td>\n",
       "      <td>200.00</td>\n",
       "    </tr>\n",
       "    <tr>\n",
       "      <th>order_num_total_ever_offline</th>\n",
       "      <td>19945.0</td>\n",
       "      <td>1.913913</td>\n",
       "      <td>2.062880</td>\n",
       "      <td>1.00</td>\n",
       "      <td>1.00</td>\n",
       "      <td>1.00</td>\n",
       "      <td>2.00</td>\n",
       "      <td>109.00</td>\n",
       "    </tr>\n",
       "    <tr>\n",
       "      <th>customer_value_total_ever_offline</th>\n",
       "      <td>19945.0</td>\n",
       "      <td>253.922597</td>\n",
       "      <td>301.532853</td>\n",
       "      <td>10.00</td>\n",
       "      <td>99.99</td>\n",
       "      <td>179.98</td>\n",
       "      <td>319.97</td>\n",
       "      <td>18119.14</td>\n",
       "    </tr>\n",
       "    <tr>\n",
       "      <th>customer_value_total_ever_online</th>\n",
       "      <td>19945.0</td>\n",
       "      <td>497.321690</td>\n",
       "      <td>832.601886</td>\n",
       "      <td>12.99</td>\n",
       "      <td>149.98</td>\n",
       "      <td>286.46</td>\n",
       "      <td>578.44</td>\n",
       "      <td>45220.13</td>\n",
       "    </tr>\n",
       "  </tbody>\n",
       "</table>\n",
       "</div>"
      ],
      "text/plain": [
       "                                     count        mean         std    min  \\\n",
       "order_num_total_ever_online        19945.0    3.110855    4.225647   1.00   \n",
       "order_num_total_ever_offline       19945.0    1.913913    2.062880   1.00   \n",
       "customer_value_total_ever_offline  19945.0  253.922597  301.532853  10.00   \n",
       "customer_value_total_ever_online   19945.0  497.321690  832.601886  12.99   \n",
       "\n",
       "                                      25%     50%     75%       max  \n",
       "order_num_total_ever_online          1.00    2.00    4.00    200.00  \n",
       "order_num_total_ever_offline         1.00    1.00    2.00    109.00  \n",
       "customer_value_total_ever_offline   99.99  179.98  319.97  18119.14  \n",
       "customer_value_total_ever_online   149.98  286.46  578.44  45220.13  "
      ]
     },
     "execution_count": 5,
     "metadata": {},
     "output_type": "execute_result"
    }
   ],
   "source": [
    "# MATEMATİKSEL İŞLEMLER\n",
    "\n",
    "df.describe().T"
   ]
  },
  {
   "cell_type": "code",
   "execution_count": null,
   "id": "5dfbbe42-e876-4b6d-9788-b17b16f6eba8",
   "metadata": {},
   "outputs": [
    {
     "data": {
      "text/plain": [
       "19945"
      ]
     },
     "execution_count": 6,
     "metadata": {},
     "output_type": "execute_result"
    }
   ],
   "source": [
    "df[\"master_id\"].nunique()  # BENZERSİZ MÜŞTERİ ID NUMARASI (TOPLAM MÜŞTERİ)"
   ]
  },
  {
   "cell_type": "code",
   "execution_count": null,
   "id": "f535e925-1aea-4ed5-951e-54c745bd19ee",
   "metadata": {},
   "outputs": [
    {
     "data": {
      "text/plain": [
       "master_id                            0\n",
       "order_channel                        0\n",
       "last_order_channel                   0\n",
       "first_order_date                     0\n",
       "last_order_date                      0\n",
       "last_order_date_online               0\n",
       "last_order_date_offline              0\n",
       "order_num_total_ever_online          0\n",
       "order_num_total_ever_offline         0\n",
       "customer_value_total_ever_offline    0\n",
       "customer_value_total_ever_online     0\n",
       "interested_in_categories_12          0\n",
       "store_type                           0\n",
       "dtype: int64"
      ]
     },
     "execution_count": 7,
     "metadata": {},
     "output_type": "execute_result"
    }
   ],
   "source": [
    "# VERİDE EKSİK DEĞER SORGULAMASI:\n",
    "\n",
    "df.isnull().sum()"
   ]
  },
  {
   "cell_type": "code",
   "execution_count": null,
   "id": "c5279992-cf7b-4016-ad30-b749ced3d216",
   "metadata": {},
   "outputs": [
    {
     "data": {
      "image/png": "[encoded data removed]",
      "text/plain": [
       "<Figure size 400x400 with 1 Axes>"
      ]
     },
     "metadata": {},
     "output_type": "display_data"
    },
    {
     "data": {
      "image/png": "[encoded data removed]",
      "text/plain": [
       "<Figure size 400x400 with 1 Axes>"
      ]
     },
     "metadata": {},
     "output_type": "display_data"
    }
   ],
   "source": [
    "# GENEL GRAFİKLER\n",
    "\n",
    "plt.figure(figsize = (4,4))\n",
    "sns.countplot(x = df[\"order_channel\"],data = df,palette=\"Set1\")\n",
    "plt.show()\n",
    "\n",
    "\n",
    "plt.figure(figsize=(4, 4))\n",
    "sns.boxplot(x = df[\"customer_value_total_ever_online\"],data = df)\n",
    "plt.show()"
   ]
  },
  {
   "cell_type": "code",
   "execution_count": null,
   "id": "9529962b-4d10-4e59-bb76-080da4345cb0",
   "metadata": {},
   "outputs": [],
   "source": [
    "# Her müşterinin toplam alışverisi sayısı \"total_order\"\n",
    "# Her müşterinin toplam harcadığı para \"total_value\"\n",
    "\n",
    "df[\"total_order\"] = df[\"order_num_total_ever_online\"] + df[\"order_num_total_ever_offline\"]\n",
    "df[\"total_value\"] = df[\"customer_value_total_ever_online\"] + df[\"customer_value_total_ever_offline\"]"
   ]
  },
  {
   "cell_type": "code",
   "execution_count": null,
   "id": "3c80d2be-5a03-4ede-8edd-2cd62d2ed265",
   "metadata": {},
   "outputs": [
    {
     "data": {
      "text/plain": [
       "0         5.0\n",
       "1        21.0\n",
       "2         5.0\n",
       "3         2.0\n",
       "4         2.0\n",
       "         ... \n",
       "19940     3.0\n",
       "19941     2.0\n",
       "19942     3.0\n",
       "19943     6.0\n",
       "19944     2.0\n",
       "Name: total_order, Length: 19945, dtype: float64"
      ]
     },
     "execution_count": 10,
     "metadata": {},
     "output_type": "execute_result"
    }
   ],
   "source": [
    "df[\"total_order\"]"
   ]
  },
  {
   "cell_type": "code",
   "execution_count": null,
   "id": "5a8f4884-bd5e-4ed7-9e2b-11445b36cfa7",
   "metadata": {},
   "outputs": [
    {
     "data": {
      "text/plain": [
       "0         939.37\n",
       "1        2013.55\n",
       "2         585.32\n",
       "3         121.97\n",
       "4         209.98\n",
       "          ...   \n",
       "19940     401.96\n",
       "19941     390.47\n",
       "19942     632.94\n",
       "19943    1009.77\n",
       "19944     261.97\n",
       "Name: total_value, Length: 19945, dtype: float64"
      ]
     },
     "execution_count": 11,
     "metadata": {},
     "output_type": "execute_result"
    }
   ],
   "source": [
    "df[\"total_value\"]"
   ]
  },
  {
   "cell_type": "markdown",
   "id": "d3209873-dafb-4346-aeaf-512cfe8c4d4c",
   "metadata": {},
   "source": [
    "***Zaman belirten değişkenlerimizin type bilgisi object olarak girilmiş. RFM analizinde kullanabilmek için bunu datetime olarak çevireceğiz.***"
   ]
  },
  {
   "cell_type": "code",
   "execution_count": null,
   "id": "d82cf807-da78-4990-9ed1-e96f5b31a324",
   "metadata": {},
   "outputs": [],
   "source": [
    "for col in df.columns:\n",
    "    if \"date\" in col:\n",
    "        df[col] = pd.to_datetime(df[col])\n",
    "    "
   ]
  },
  {
   "cell_type": "code",
   "execution_count": null,
   "id": "f411e7d7-2d7c-4c1e-8ff7-74e689b7ae26",
   "metadata": {},
   "outputs": [
    {
     "name": "stdout",
     "output_type": "stream",
     "text": [
      "<class 'pandas.core.frame.DataFrame'>\n",
      "RangeIndex: 19945 entries, 0 to 19944\n",
      "Data columns (total 15 columns):\n",
      " #   Column                             Non-Null Count  Dtype         \n",
      "---  ------                             --------------  -----         \n",
      " 0   master_id                          19945 non-null  object        \n",
      " 1   order_channel                      19945 non-null  object        \n",
      " 2   last_order_channel                 19945 non-null  object        \n",
      " 3   first_order_date                   19945 non-null  datetime64[ns]\n",
      " 4   last_order_date                    19945 non-null  datetime64[ns]\n",
      " 5   last_order_date_online             19945 non-null  datetime64[ns]\n",
      " 6   last_order_date_offline            19945 non-null  datetime64[ns]\n",
      " 7   order_num_total_ever_online        19945 non-null  float64       \n",
      " 8   order_num_total_ever_offline       19945 non-null  float64       \n",
      " 9   customer_value_total_ever_offline  19945 non-null  float64       \n",
      " 10  customer_value_total_ever_online   19945 non-null  float64       \n",
      " 11  interested_in_categories_12        19945 non-null  object        \n",
      " 12  store_type                         19945 non-null  object        \n",
      " 13  total_order                        19945 non-null  float64       \n",
      " 14  total_value                        19945 non-null  float64       \n",
      "dtypes: datetime64[ns](4), float64(6), object(5)\n",
      "memory usage: 2.3+ MB\n"
     ]
    }
   ],
   "source": [
    "# DATETİME DEĞİŞİMİ SONRASI SÜTUNLARIN TYPE İNCELEYELİM\n",
    "\n",
    "df.info()"
   ]
  },
  {
   "cell_type": "markdown",
   "id": "bcd73b07-1308-4c47-93e8-37f5c0477320",
   "metadata": {},
   "source": [
    "***Görüldüğü gibi sütunlarımızda date geçen her sütunu to_datetime methodu ile type değiştirdik ve object'den datetime'ye dönüştü***"
   ]
  },
  {
   "cell_type": "code",
   "execution_count": null,
   "id": "dec4965e-9570-4c5b-9d4c-290266e966b8",
   "metadata": {},
   "outputs": [
    {
     "data": {
      "text/html": [
       "<div>\n",
       "<style scoped>\n",
       "    .dataframe tbody tr th:only-of-type {\n",
       "        vertical-align: middle;\n",
       "    }\n",
       "\n",
       "    .dataframe tbody tr th {\n",
       "        vertical-align: top;\n",
       "    }\n",
       "\n",
       "    .dataframe thead tr th {\n",
       "        text-align: left;\n",
       "    }\n",
       "\n",
       "    .dataframe thead tr:last-of-type th {\n",
       "        text-align: right;\n",
       "    }\n",
       "</style>\n",
       "<table border=\"1\" class=\"dataframe\">\n",
       "  <thead>\n",
       "    <tr>\n",
       "      <th></th>\n",
       "      <th colspan=\"2\" halign=\"left\">total_order</th>\n",
       "      <th colspan=\"2\" halign=\"left\">total_value</th>\n",
       "    </tr>\n",
       "    <tr>\n",
       "      <th></th>\n",
       "      <th>count</th>\n",
       "      <th>sum</th>\n",
       "      <th>count</th>\n",
       "      <th>sum</th>\n",
       "    </tr>\n",
       "    <tr>\n",
       "      <th>order_channel</th>\n",
       "      <th></th>\n",
       "      <th></th>\n",
       "      <th></th>\n",
       "      <th></th>\n",
       "    </tr>\n",
       "  </thead>\n",
       "  <tbody>\n",
       "    <tr>\n",
       "      <th>Android App</th>\n",
       "      <td>9495</td>\n",
       "      <td>52269.0</td>\n",
       "      <td>9495</td>\n",
       "      <td>7819062.76</td>\n",
       "    </tr>\n",
       "    <tr>\n",
       "      <th>Desktop</th>\n",
       "      <td>2735</td>\n",
       "      <td>10920.0</td>\n",
       "      <td>2735</td>\n",
       "      <td>1610321.46</td>\n",
       "    </tr>\n",
       "    <tr>\n",
       "      <th>Ios App</th>\n",
       "      <td>2833</td>\n",
       "      <td>15351.0</td>\n",
       "      <td>2833</td>\n",
       "      <td>2525999.93</td>\n",
       "    </tr>\n",
       "    <tr>\n",
       "      <th>Mobile</th>\n",
       "      <td>4882</td>\n",
       "      <td>21679.0</td>\n",
       "      <td>4882</td>\n",
       "      <td>3028183.16</td>\n",
       "    </tr>\n",
       "  </tbody>\n",
       "</table>\n",
       "</div>"
      ],
      "text/plain": [
       "              total_order          total_value            \n",
       "                    count      sum       count         sum\n",
       "order_channel                                             \n",
       "Android App          9495  52269.0        9495  7819062.76\n",
       "Desktop              2735  10920.0        2735  1610321.46\n",
       "Ios App              2833  15351.0        2833  2525999.93\n",
       "Mobile               4882  21679.0        4882  3028183.16"
      ]
     },
     "execution_count": 14,
     "metadata": {},
     "output_type": "execute_result"
    }
   ],
   "source": [
    "# Alışveriş kanallarındaki müşteri sayısının, toplam alınan ürün sayısının ve toplam harcamaların dağılımına bakalım.\n",
    "\n",
    "df.groupby(\"order_channel\").agg({\"total_order\":[\"count\",\"sum\"],\"total_value\":[\"count\",\"sum\"]})"
   ]
  },
  {
   "cell_type": "markdown",
   "id": "cab68ba4-675a-48c6-8554-b8141cc93990",
   "metadata": {},
   "source": [
    "# 1. RFM Analizi ile Müşteri Segmentasyonu\n",
    "RFM metrikleri Recency, Frequency, Monetary.\n",
    "\n",
    "- Recency: Müşterinin son sipariş tarihinden bu yana kaç gün geçti?\n",
    "- Frequency: Sipariş sıklığını ifade ediyor, Müşterinin toplam sipariş sayısıdır.\n",
    "- Monetary: Müşteri şirkete toplamda ne kadar para ödedi?"
   ]
  },
  {
   "cell_type": "markdown",
   "id": "deef9a6d-c70d-497e-95e9-a2f1f7687830",
   "metadata": {},
   "source": [
    "# İŞ PROBLEMİ\n",
    "\n",
    "- FLO, müşterilerini segmentlere ayırmak ve bu segmentlere göre pazarlama stratejilerini belirlemek istemektedir. Bu amaçla müşterilerin davranışları tanımlanacak ve bu davranışların kümelenmesine göre gruplar oluşturulacaktır.\n"
   ]
  },
  {
   "cell_type": "markdown",
   "id": "74e475ed-cae0-4767-90da-232cc84b8099",
   "metadata": {},
   "source": [
    "# ANALİZ ZAMANI SEÇME\n",
    "- Elimizdeki veriler 2020-2021 yıllarına ait olduğu için bugünün zamanı ile RFM hesaplaması yapmak mantıksız olacaktır. Bu yüzden analiz tarihini son satın alma tarihinden 2 gün sonrası olacak şekilde seçiyoruz."
   ]
  },
  {
   "cell_type": "code",
   "execution_count": null,
   "id": "f79e67b4-61d6-4901-913d-262aae5b6010",
   "metadata": {},
   "outputs": [],
   "source": [
    "df[\"last_order_date\"].max()    # 2021-05-30 son siapriş tarihi çıktı\n",
    "today_date = dt.datetime(2021,6,1) # ikigün sonrasını seçiyoruz"
   ]
  },
  {
   "cell_type": "markdown",
   "id": "fd5315fc-69eb-4dac-a5b3-db3ed4cafded",
   "metadata": {},
   "source": [
    "# RFM METRİKLERİNİ OLUŞTURALIM¶\n",
    "- rfm adında yeni bir df oluşturup bize lazım olan değişkenleri onun içine atalım. Lambda ile de Recency'yi hesaplayıp işlem sayımızı azaltalım.\n",
    "- Yeni oluşturduğumuz rfm DataFrame'inde değişken isimlerini yeniden adlandıralım.ım."
   ]
  },
  {
   "cell_type": "code",
   "execution_count": null,
   "id": "8c6e2727-2dd7-4799-8910-ab4fda5d1f96",
   "metadata": {},
   "outputs": [
    {
     "data": {
      "text/html": [
       "<div>\n",
       "<style scoped>\n",
       "    .dataframe tbody tr th:only-of-type {\n",
       "        vertical-align: middle;\n",
       "    }\n",
       "\n",
       "    .dataframe tbody tr th {\n",
       "        vertical-align: top;\n",
       "    }\n",
       "\n",
       "    .dataframe thead th {\n",
       "        text-align: right;\n",
       "    }\n",
       "</style>\n",
       "<table border=\"1\" class=\"dataframe\">\n",
       "  <thead>\n",
       "    <tr style=\"text-align: right;\">\n",
       "      <th></th>\n",
       "      <th>master_id</th>\n",
       "      <th>recency</th>\n",
       "      <th>frequency</th>\n",
       "      <th>monetary</th>\n",
       "    </tr>\n",
       "  </thead>\n",
       "  <tbody>\n",
       "    <tr>\n",
       "      <th>0</th>\n",
       "      <td>cc294636-19f0-11eb-8d74-000d3a38a36f</td>\n",
       "      <td>95</td>\n",
       "      <td>5.0</td>\n",
       "      <td>939.37</td>\n",
       "    </tr>\n",
       "    <tr>\n",
       "      <th>1</th>\n",
       "      <td>f431bd5a-ab7b-11e9-a2fc-000d3a38a36f</td>\n",
       "      <td>105</td>\n",
       "      <td>21.0</td>\n",
       "      <td>2013.55</td>\n",
       "    </tr>\n",
       "    <tr>\n",
       "      <th>2</th>\n",
       "      <td>69b69676-1a40-11ea-941b-000d3a38a36f</td>\n",
       "      <td>186</td>\n",
       "      <td>5.0</td>\n",
       "      <td>585.32</td>\n",
       "    </tr>\n",
       "    <tr>\n",
       "      <th>3</th>\n",
       "      <td>1854e56c-491f-11eb-806e-000d3a38a36f</td>\n",
       "      <td>135</td>\n",
       "      <td>2.0</td>\n",
       "      <td>121.97</td>\n",
       "    </tr>\n",
       "    <tr>\n",
       "      <th>4</th>\n",
       "      <td>d6ea1074-f1f5-11e9-9346-000d3a38a36f</td>\n",
       "      <td>86</td>\n",
       "      <td>2.0</td>\n",
       "      <td>209.98</td>\n",
       "    </tr>\n",
       "  </tbody>\n",
       "</table>\n",
       "</div>"
      ],
      "text/plain": [
       "                              master_id  recency  frequency  monetary\n",
       "0  cc294636-19f0-11eb-8d74-000d3a38a36f       95        5.0    939.37\n",
       "1  f431bd5a-ab7b-11e9-a2fc-000d3a38a36f      105       21.0   2013.55\n",
       "2  69b69676-1a40-11ea-941b-000d3a38a36f      186        5.0    585.32\n",
       "3  1854e56c-491f-11eb-806e-000d3a38a36f      135        2.0    121.97\n",
       "4  d6ea1074-f1f5-11e9-9346-000d3a38a36f       86        2.0    209.98"
      ]
     },
     "execution_count": 16,
     "metadata": {},
     "output_type": "execute_result"
    }
   ],
   "source": [
    " rfm = df.agg({\"master_id\": lambda x: x,\n",
    "              \"last_order_date\": lambda x: (today_date - x).days,\n",
    "              \"total_order\": lambda x: x,\n",
    "              \"total_value\": lambda x: x})\n",
    "\n",
    "\n",
    "rfm.columns = [\"master_id\", \"recency\", \"frequency\", \"monetary\"]\n",
    "\n",
    "rfm.head()"
   ]
  },
  {
   "cell_type": "markdown",
   "id": "24eea232-3df5-4818-ade7-866cf103c576",
   "metadata": {},
   "source": [
    "**Kodun kısaca işlevi**\n",
    "- master_id sütunundaki değerler olduğu gibi alınır.\n",
    "- last_order_date sütunundaki tarihler ile today_date arasındaki gün farkları hesaplanır.\n",
    "- total_order sütunundaki değerler olduğu gibi alınır.\n",
    "- total_value sütunundaki değerler olduğu gibi alınır.\n",
    "- Yeni oluşturulan rfm DataFrame'inin sütun isimlerini belirler. Bu sütunlar sırayla master_id, recency, frequency ve monetary olarak adlandırılır.\n",
    "\n",
    "**Kullanım alanları**\n",
    "  - Müşteri Segmentasyonu: Müşterileri davranışlarına göre segmentlere ayırarak, her segment için özelleştirilmiş pazarlama stratejileri oluşturabilirsiniz.\n",
    "  - Pazarlama Kampanyaları: Hangi müşterilerin hangi kampanyalara dahil edileceğini belirlemek için kullanılabilir.\n",
    "  - Sadakat Programları: Sadık müşterileri belirlemek ve ödüllendirmek için kullanılabilir.\n",
    "  - Risk Analizi: Müşteri kaybı riski yüksek olan müşterileri belirlemek için kullanılabilir.\n",
    "\n",
    "**Sütunlar**\n",
    "- \"master_id\": Müşteri kimliği.\n",
    "- \"recency\": Müşterinin son alışveriş tarihinden bugüne kadar geçen gün sayısı.\n",
    "- \"frequency\": Müşterinin toplam alışveriş sayısı.\n",
    "- \"monetary\": Müşterinin toplam harcama miktarı."
   ]
  },
  {
   "cell_type": "markdown",
   "id": "18422629-501e-42f1-9f7c-4346d999eeca",
   "metadata": {},
   "source": [
    "# RFM SKORLARI OLUŞTURMA\n",
    "- Elde ettiğimiz RFM metriklerini qcut methodunu kullanarak numaralandıralım. Bu numaralar RFM skorlarımız olacaktır."
   ]
  },
  {
   "cell_type": "code",
   "execution_count": null,
   "id": "f044a315-35c1-41d6-80e8-587679d04d29",
   "metadata": {},
   "outputs": [
    {
     "data": {
      "text/html": [
       "<div>\n",
       "<style scoped>\n",
       "    .dataframe tbody tr th:only-of-type {\n",
       "        vertical-align: middle;\n",
       "    }\n",
       "\n",
       "    .dataframe tbody tr th {\n",
       "        vertical-align: top;\n",
       "    }\n",
       "\n",
       "    .dataframe thead th {\n",
       "        text-align: right;\n",
       "    }\n",
       "</style>\n",
       "<table border=\"1\" class=\"dataframe\">\n",
       "  <thead>\n",
       "    <tr style=\"text-align: right;\">\n",
       "      <th></th>\n",
       "      <th>master_id</th>\n",
       "      <th>recency</th>\n",
       "      <th>frequency</th>\n",
       "      <th>monetary</th>\n",
       "      <th>recency_score</th>\n",
       "      <th>frequency_score</th>\n",
       "      <th>monetary_score</th>\n",
       "    </tr>\n",
       "  </thead>\n",
       "  <tbody>\n",
       "    <tr>\n",
       "      <th>0</th>\n",
       "      <td>cc294636-19f0-11eb-8d74-000d3a38a36f</td>\n",
       "      <td>95</td>\n",
       "      <td>5.0</td>\n",
       "      <td>939.37</td>\n",
       "      <td>3</td>\n",
       "      <td>4</td>\n",
       "      <td>4</td>\n",
       "    </tr>\n",
       "    <tr>\n",
       "      <th>1</th>\n",
       "      <td>f431bd5a-ab7b-11e9-a2fc-000d3a38a36f</td>\n",
       "      <td>105</td>\n",
       "      <td>21.0</td>\n",
       "      <td>2013.55</td>\n",
       "      <td>3</td>\n",
       "      <td>5</td>\n",
       "      <td>5</td>\n",
       "    </tr>\n",
       "    <tr>\n",
       "      <th>2</th>\n",
       "      <td>69b69676-1a40-11ea-941b-000d3a38a36f</td>\n",
       "      <td>186</td>\n",
       "      <td>5.0</td>\n",
       "      <td>585.32</td>\n",
       "      <td>2</td>\n",
       "      <td>4</td>\n",
       "      <td>3</td>\n",
       "    </tr>\n",
       "    <tr>\n",
       "      <th>3</th>\n",
       "      <td>1854e56c-491f-11eb-806e-000d3a38a36f</td>\n",
       "      <td>135</td>\n",
       "      <td>2.0</td>\n",
       "      <td>121.97</td>\n",
       "      <td>3</td>\n",
       "      <td>1</td>\n",
       "      <td>1</td>\n",
       "    </tr>\n",
       "    <tr>\n",
       "      <th>4</th>\n",
       "      <td>d6ea1074-f1f5-11e9-9346-000d3a38a36f</td>\n",
       "      <td>86</td>\n",
       "      <td>2.0</td>\n",
       "      <td>209.98</td>\n",
       "      <td>3</td>\n",
       "      <td>1</td>\n",
       "      <td>1</td>\n",
       "    </tr>\n",
       "  </tbody>\n",
       "</table>\n",
       "</div>"
      ],
      "text/plain": [
       "                              master_id  recency  frequency  monetary  \\\n",
       "0  cc294636-19f0-11eb-8d74-000d3a38a36f       95        5.0    939.37   \n",
       "1  f431bd5a-ab7b-11e9-a2fc-000d3a38a36f      105       21.0   2013.55   \n",
       "2  69b69676-1a40-11ea-941b-000d3a38a36f      186        5.0    585.32   \n",
       "3  1854e56c-491f-11eb-806e-000d3a38a36f      135        2.0    121.97   \n",
       "4  d6ea1074-f1f5-11e9-9346-000d3a38a36f       86        2.0    209.98   \n",
       "\n",
       "  recency_score frequency_score monetary_score  \n",
       "0             3               4              4  \n",
       "1             3               5              5  \n",
       "2             2               4              3  \n",
       "3             3               1              1  \n",
       "4             3               1              1  "
      ]
     },
     "execution_count": 19,
     "metadata": {},
     "output_type": "execute_result"
    }
   ],
   "source": [
    "rfm[\"recency_score\"] = pd.qcut(rfm[\"recency\"], 5, labels = [5,4,3,2,1])\n",
    "rfm[\"frequency_score\"] = pd.qcut(rfm[\"frequency\"].rank(method=\"first\"), 5, labels = [1,2,3,4,5])\n",
    "rfm[\"monetary_score\"] = pd.qcut(rfm[\"monetary\"], 5, labels = [1,2,3,4,5])\n",
    "\n",
    "rfm.head()"
   ]
  },
  {
   "cell_type": "markdown",
   "id": "283bc063-fa86-4550-8ad9-a912cb246167",
   "metadata": {},
   "source": [
    "# RF DEĞERİ\n",
    " - RFM analizinde Recency ve Frequency değerlerini kullanacağız. Bu yüzden bu iki değeri string olarak birleştirmemiz gerek"
   ]
  },
  {
   "cell_type": "code",
   "execution_count": null,
   "id": "4574ff5c-33f8-4966-8189-f2d1577b5e17",
   "metadata": {},
   "outputs": [
    {
     "data": {
      "text/html": [
       "<div>\n",
       "<style scoped>\n",
       "    .dataframe tbody tr th:only-of-type {\n",
       "        vertical-align: middle;\n",
       "    }\n",
       "\n",
       "    .dataframe tbody tr th {\n",
       "        vertical-align: top;\n",
       "    }\n",
       "\n",
       "    .dataframe thead th {\n",
       "        text-align: right;\n",
       "    }\n",
       "</style>\n",
       "<table border=\"1\" class=\"dataframe\">\n",
       "  <thead>\n",
       "    <tr style=\"text-align: right;\">\n",
       "      <th></th>\n",
       "      <th>master_id</th>\n",
       "      <th>recency</th>\n",
       "      <th>frequency</th>\n",
       "      <th>monetary</th>\n",
       "      <th>recency_score</th>\n",
       "      <th>frequency_score</th>\n",
       "      <th>monetary_score</th>\n",
       "      <th>RF_SCORE</th>\n",
       "    </tr>\n",
       "  </thead>\n",
       "  <tbody>\n",
       "    <tr>\n",
       "      <th>0</th>\n",
       "      <td>cc294636-19f0-11eb-8d74-000d3a38a36f</td>\n",
       "      <td>95</td>\n",
       "      <td>5.0</td>\n",
       "      <td>939.37</td>\n",
       "      <td>3</td>\n",
       "      <td>4</td>\n",
       "      <td>4</td>\n",
       "      <td>34</td>\n",
       "    </tr>\n",
       "    <tr>\n",
       "      <th>1</th>\n",
       "      <td>f431bd5a-ab7b-11e9-a2fc-000d3a38a36f</td>\n",
       "      <td>105</td>\n",
       "      <td>21.0</td>\n",
       "      <td>2013.55</td>\n",
       "      <td>3</td>\n",
       "      <td>5</td>\n",
       "      <td>5</td>\n",
       "      <td>35</td>\n",
       "    </tr>\n",
       "    <tr>\n",
       "      <th>2</th>\n",
       "      <td>69b69676-1a40-11ea-941b-000d3a38a36f</td>\n",
       "      <td>186</td>\n",
       "      <td>5.0</td>\n",
       "      <td>585.32</td>\n",
       "      <td>2</td>\n",
       "      <td>4</td>\n",
       "      <td>3</td>\n",
       "      <td>24</td>\n",
       "    </tr>\n",
       "    <tr>\n",
       "      <th>3</th>\n",
       "      <td>1854e56c-491f-11eb-806e-000d3a38a36f</td>\n",
       "      <td>135</td>\n",
       "      <td>2.0</td>\n",
       "      <td>121.97</td>\n",
       "      <td>3</td>\n",
       "      <td>1</td>\n",
       "      <td>1</td>\n",
       "      <td>31</td>\n",
       "    </tr>\n",
       "    <tr>\n",
       "      <th>4</th>\n",
       "      <td>d6ea1074-f1f5-11e9-9346-000d3a38a36f</td>\n",
       "      <td>86</td>\n",
       "      <td>2.0</td>\n",
       "      <td>209.98</td>\n",
       "      <td>3</td>\n",
       "      <td>1</td>\n",
       "      <td>1</td>\n",
       "      <td>31</td>\n",
       "    </tr>\n",
       "  </tbody>\n",
       "</table>\n",
       "</div>"
      ],
      "text/plain": [
       "                              master_id  recency  frequency  monetary  \\\n",
       "0  cc294636-19f0-11eb-8d74-000d3a38a36f       95        5.0    939.37   \n",
       "1  f431bd5a-ab7b-11e9-a2fc-000d3a38a36f      105       21.0   2013.55   \n",
       "2  69b69676-1a40-11ea-941b-000d3a38a36f      186        5.0    585.32   \n",
       "3  1854e56c-491f-11eb-806e-000d3a38a36f      135        2.0    121.97   \n",
       "4  d6ea1074-f1f5-11e9-9346-000d3a38a36f       86        2.0    209.98   \n",
       "\n",
       "  recency_score frequency_score monetary_score RF_SCORE  \n",
       "0             3               4              4       34  \n",
       "1             3               5              5       35  \n",
       "2             2               4              3       24  \n",
       "3             3               1              1       31  \n",
       "4             3               1              1       31  "
      ]
     },
     "execution_count": 20,
     "metadata": {},
     "output_type": "execute_result"
    }
   ],
   "source": [
    "rfm[\"RF_SCORE\"] = (rfm[\"recency_score\"].astype(str) + rfm[\"frequency_score\"].astype(str))\n",
    "rfm.head()"
   ]
  },
  {
   "cell_type": "code",
   "execution_count": null,
   "id": "c04b3a2d-2133-488c-aa6e-665e835cfba1",
   "metadata": {},
   "outputs": [],
   "source": []
  }
 ],
 "metadata": {
  "kernelspec": {
   "display_name": "Python 3 (ipykernel)",
   "language": "python",
   "name": "python3"
  },
  "language_info": {
   "codemirror_mode": {
    "name": "ipython",
    "version": 3
   },
   "file_extension": ".py",
   "mimetype": "text/x-python",
   "name": "python",
   "nbconvert_exporter": "python",
   "pygments_lexer": "ipython3",
   "version": "3.11.7"
  }
 },
 "nbformat": 4,
 "nbformat_minor": 5
}
